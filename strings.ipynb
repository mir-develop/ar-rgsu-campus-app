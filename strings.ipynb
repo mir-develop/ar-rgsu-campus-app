{
  "nbformat": 4,
  "nbformat_minor": 0,
  "metadata": {
    "colab": {
      "name": "Untitled1.ipynb",
      "provenance": [],
      "authorship_tag": "ABX9TyOCHofz4x08cZfqlOQB3V90",
      "include_colab_link": true
    },
    "kernelspec": {
      "name": "python3",
      "display_name": "Python 3"
    },
    "language_info": {
      "name": "python"
    }
  },
  "cells": [
    {
      "cell_type": "markdown",
      "metadata": {
        "id": "view-in-github",
        "colab_type": "text"
      },
      "source": [
        "<a href=\"https://colab.research.google.com/github/mir-develop/ar-rgsu-campus-app/blob/main/strings.ipynb\" target=\"_parent\"><img src=\"https://colab.research.google.com/assets/colab-badge.svg\" alt=\"Open In Colab\"/></a>"
      ]
    },
    {
      "cell_type": "code",
      "metadata": {
        "colab": {
          "base_uri": "https://localhost:8080/"
        },
        "id": "amoCxtoC-var",
        "outputId": "27935eb3-a5cd-4703-df0e-631ae09b0567"
      },
      "source": [
        "name = input(\"Введите ФИО: \")"
      ],
      "execution_count": null,
      "outputs": [
        {
          "output_type": "stream",
          "text": [
            "Введите ФИО: Иванов Михаил Романович\n"
          ],
          "name": "stdout"
        }
      ]
    },
    {
      "cell_type": "code",
      "metadata": {
        "colab": {
          "base_uri": "https://localhost:8080/",
          "height": 37
        },
        "id": "GJ36X8vl_eT6",
        "outputId": "3ef5d31a-da97-4913-bcf1-278b6980adaf"
      },
      "source": [
        "name[8:]"
      ],
      "execution_count": null,
      "outputs": [
        {
          "output_type": "execute_result",
          "data": {
            "application/vnd.google.colaboratory.intrinsic+json": {
              "type": "string"
            },
            "text/plain": [
              "'ихаил Романович'"
            ]
          },
          "metadata": {
            "tags": []
          },
          "execution_count": 3
        }
      ]
    },
    {
      "cell_type": "code",
      "metadata": {
        "colab": {
          "base_uri": "https://localhost:8080/"
        },
        "id": "5RI_ioWLAjSv",
        "outputId": "efdd6ef9-952c-4df5-b281-98981b7e32c5"
      },
      "source": [
        "name.count('о')"
      ],
      "execution_count": null,
      "outputs": [
        {
          "output_type": "execute_result",
          "data": {
            "text/plain": [
              "3"
            ]
          },
          "metadata": {
            "tags": []
          },
          "execution_count": 8
        }
      ]
    },
    {
      "cell_type": "code",
      "metadata": {
        "colab": {
          "base_uri": "https://localhost:8080/"
        },
        "id": "hI1i1i6SBC4c",
        "outputId": "5ae858f4-8762-4add-95eb-7348b4483456"
      },
      "source": [
        "print(\"На вопросы отвечать только да или нет\")\n",
        "a= input(\"2. Функции строк. Можно ли в Python дублировать строки одной командой? \")\n",
        "rating = 0\n",
        "if a == \"да\":\n",
        "    print('верно')\n",
        "    rating = rating + 1\n",
        "else:\n",
        "    print('неверно')\n",
        "\n",
        "b= input(\"3. ABC-классы. Могут ли Абстрактные классы быть инстанциированы? \")\n",
        "if b == \"нет\":\n",
        "    print('верно')\n",
        "    rating = rating + 1\n",
        "else:\n",
        "    print('неверно')\n",
        "\n",
        "c=  input(\"4. Целые числа. Поддерживают ли целые числа в Python длинную арифметику? \")\n",
        "if c == \"да\":\n",
        "    print('верно')\n",
        "    rating = rating + 1\n",
        "else:\n",
        "    print('неверно')\n",
        "\n",
        "d= input(\"7. Методы строк. Есть ли метод для разбиения исходной строки на подстроки по символу, возвращающая их в виде списка? \")\n",
        "if d == \"да\":\n",
        "    print('верно')\n",
        "    rating = rating + 1\n",
        "else:\n",
        "    print('неверно')\n",
        "\n",
        "e= input(\"9. Условный оператор. Есть ли оператор, позволяющий выполнить определенный набор инструкций в зависимости от некоторого условия? \")\n",
        "if e == \"да\":\n",
        "    print('верно')\n",
        "    rating = rating + 1\n",
        "else:\n",
        "    print('неверно')\n",
        "\n",
        "print(name[:6],\", ваша оценка за тест: \",rating)"
      ],
      "execution_count": null,
      "outputs": [
        {
          "output_type": "stream",
          "text": [
            "На вопросы отвечать только да или нет\n",
            "2. Функции строк. Можно ли в Python дублировать строки одной командой? да\n",
            "верно\n",
            "3. ABC-классы. Могут ли Абстрактные классы быть инстанциированы? нет\n",
            "верно\n",
            "4. Целые числа. Поддерживают ли целые числа в Python длинную арифметику? да\n",
            "верно\n",
            "7. Методы строк. Есть ли метод для разбиения исходной строки на подстроки по символу, возвращающая их в виде списка? да\n",
            "верно\n",
            "9. Условный оператор. Есть ли оператор, позволяющий выполнить определенный набор инструкций в зависимости от некоторого условия? да\n",
            "верно\n",
            "Иванов , ваша оценка за тест:  5\n"
          ],
          "name": "stdout"
        }
      ]
    }
  ]
}